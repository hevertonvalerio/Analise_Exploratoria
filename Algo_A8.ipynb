{
  "nbformat": 4,
  "nbformat_minor": 0,
  "metadata": {
    "colab": {
      "provenance": [],
      "authorship_tag": "ABX9TyMPIafaaGvLNa80o84wPwPc",
      "include_colab_link": true
    },
    "kernelspec": {
      "name": "python3",
      "display_name": "Python 3"
    },
    "language_info": {
      "name": "python"
    }
  },
  "cells": [
    {
      "cell_type": "markdown",
      "metadata": {
        "id": "view-in-github",
        "colab_type": "text"
      },
      "source": [
        "<a href=\"https://colab.research.google.com/github/hevertonvalerio/Analise_Exploratoria/blob/main/Algo_A8.ipynb\" target=\"_parent\"><img src=\"https://colab.research.google.com/assets/colab-badge.svg\" alt=\"Open In Colab\"/></a>"
      ]
    },
    {
      "cell_type": "code",
      "source": [
        "# -*- coding: utf-8 -*-\n",
        "\"\"\"\n",
        "Created on Wed Oct 16 16:15:09 2024\n",
        "Programa encarregado de gerar uma senha aleatoriamente a partir de uma lista\n",
        "de palavras obtidas de um arquivo texto. A senha gerada é gravada em arquivo\n",
        "binário, lida deste arquivo e apresentada na tela. Durante a sua execução,\n",
        "ocorre o tratamento das exceções.\n",
        "\n",
        "@author1: Ivan Carlos Alcântara de Oliveira\n",
        "Data da Criação: 09/10/2024.\n",
        "@author2: <COLOCAR O SEU NOME AQUI>\n",
        "Data da Criação: <COLOCAR A DATA DA SUA CRIAÇÃO>.\n",
        "\"\"\""
      ],
      "metadata": {
        "id": "_nWKRktI_t9B"
      },
      "execution_count": null,
      "outputs": []
    },
    {
      "cell_type": "code",
      "execution_count": 1,
      "metadata": {
        "colab": {
          "base_uri": "https://localhost:8080/",
          "height": 106
        },
        "id": "B2uFTO0t_c6Z",
        "outputId": "4f09d646-e395-423e-d62f-64de0a0b22b0"
      },
      "outputs": [
        {
          "output_type": "error",
          "ename": "IndentationError",
          "evalue": "expected an indented block after function definition on line 20 (<ipython-input-1-48314dc35b76>, line 29)",
          "traceback": [
            "\u001b[0;36m  File \u001b[0;32m\"<ipython-input-1-48314dc35b76>\"\u001b[0;36m, line \u001b[0;32m29\u001b[0m\n\u001b[0;31m    def gravaSenhaArquivo(senha, nomeArquivo, tipo):\u001b[0m\n\u001b[0m    ^\u001b[0m\n\u001b[0;31mIndentationError\u001b[0m\u001b[0;31m:\u001b[0m expected an indented block after function definition on line 20\n"
          ]
        }
      ],
      "source": [
        "import random\n",
        "\n",
        "# leArquivo(nomeArquivo, tipo): realiza a leitura de arquivo do tipo (b ou t)\n",
        "#  passados como parâmetro retornando as linhas lidas. Trata a exceção \"FileNotFoundError\"\n",
        "#  com a mensagem \"Arquivo NOMEDOARQUIVO não encontrado!\"\n",
        "# parâmetro: nomeArquivo: nome do arquivo texto a ser lido.\n",
        "def leArquivo(nomeArquivo, tipo):\n",
        "#  Escrever o código da função conforme descrição acima.\n",
        "\n",
        "# gravaSenhaArquivo(nomeArquivo, senha, tipo): grava a senha no arquivo de\n",
        "#   de tipo (b ou t)\n",
        "#   passados como parâmetro. Trata qualquer tipo de erro que ocorra com a\n",
        "#   Exceção \"Exception\" e apresenta a mensagem, caso ela ocorra,\n",
        "#   \"Erro na gravação do aruivo! Tipo do erro: TIPOERRO\"\n",
        "# parâmetros: senha: senha a ser gravada no arquivo binário\n",
        "def gravaSenhaArquivo(senha, nomeArquivo, tipo):\n",
        "#  Escrever o código da função conforme descrição acima.\n",
        "\n",
        "#  geradorDeSenha(palavras, minPalavras, maxPalavras): realiza a geração de senha\n",
        "#      aleatoriamente escolhidas a partir de uma lista de \"palavras\".\n",
        "#      A quantidade de palavras a ser utilizada\n",
        "#      para gerar a senha também é escolhida aleatoriamente dentro do intervalo\n",
        "#      \"minPalavras\" e \"maxPalavras\", fornecido como parâmetro.\n",
        "#      Ao final, a senha gerada deve ser retornada.\n",
        "#      Caso a lista de \"palavras\" (parâmetro) esteja vazia, uma exceção é lançada\n",
        "#      com o texto \"A lista de palavras tem que ter pelo menos uma (1) palavra!\"\n",
        "#      E, nessa situação, a função deve retornar False, indicando que não foi\n",
        "#      possível gerar a senha.\n",
        "#  parâmetros: palavras: lista de palavras a serem utilizadas para gerar a senha.\n",
        "#              minPalavras, maxPalavras: intervalo mínimo e máximo para definir\n",
        "#              de forma aleatória, a quantidade de palavras a ser utilizada\n",
        "#              para montar a senha\n",
        "def geradorDeSenha(palavras, minPalavras, maxPalavras):\n",
        "#  Escrever o código da função conforme descrição acima.\n",
        "\n",
        "# principal(): função principal encarregada de chamar os métodos de leitura de\n",
        "#              arquivo (tipo texto) de palavras, geração de senha e sua\n",
        "#              gravação em arquivo binário. Ao final, após ler a senha gravada,\n",
        "#              realiza a sua leitura e a apresenta na tela.\n",
        "#              Além disso, realiza o tratamento de exceção caso seja fornecido\n",
        "#              um valor não inteiro de intervalo a ser utilizado para\n",
        "#              definir a quantidade de palavras a serem utilizadas para gerar\n",
        "#              a senha.\n",
        "def principal():\n",
        "    try:\n",
        "        print(\"*** Gerador de Senha ***\")\n",
        "        numMinPal = int(input(\"\\nMínimo de palavras: \"))\n",
        "        numMaxPal = int(input(\"Máximo de palavras: \"))\n",
        "        palavras = leArquivo(\"palavras.txt\", \"t\")\n",
        "        #palavras = []\n",
        "        senhaGerada = geradorDeSenha(palavras, numMinPal, numMaxPal)\n",
        "        if senhaGerada != False: # se senha não foi gerada\n",
        "            senhaBytes = bytes(senhaGerada, \"utf-8\") # converte a string para byte\n",
        "            gravaSenhaArquivo(senhaBytes, \"senha.dat\", 'b')\n",
        "            senha = leArquivo('senha.dat', 'b')\n",
        "            senha = bytes.decode(senha[0]) # converte byte para string\n",
        "            print(f\"\\nSenha gerada foi: {senha}\")\n",
        "        else:\n",
        "            print(\"Não foi possivel gerar a senha!\")\n",
        "    except ValueError:\n",
        "        print(\"Ops! Esse não é um número válido. Tente novamente...\")\n",
        "\n",
        "principal()"
      ]
    },
    {
      "cell_type": "code",
      "source": [
        "# prompt: use the comments of the last cell, to make the code\n",
        "\n",
        "import random\n",
        "# -*- coding: utf-8 -*-\n",
        "\"\"\"\n",
        "Created on Wed Oct 16 16:15:09 2024\n",
        "Programa encarregado de gerar uma senha aleatoriamente a partir de uma lista\n",
        "de palavras obtidas de um arquivo texto. A senha gerada é gravada em arquivo\n",
        "binário, lida deste arquivo e apresentada na tela. Durante a sua execução,\n",
        "ocorre o tratamento das exceções.\n",
        "\n",
        "@author1: Ivan Carlos Alcântara de Oliveira\n",
        "Data da Criação: 09/10/2024.\n",
        "@author2: <COLOCAR O SEU NOME AQUI>\n",
        "Data da Criação: <COLOCAR A DATA DA SUA CRIAÇÃO>.\n",
        "\"\"\"\n",
        "\n",
        "# leArquivo(nomeArquivo, tipo): realiza a leitura de arquivo do tipo (b ou t)\n",
        "#  passados como parâmetro retornando as linhas lidas. Trata a exceção \"FileNotFoundError\"\n",
        "#  com a mensagem \"Arquivo NOMEDOARQUIVO não encontrado!\"\n",
        "# parâmetro: nomeArquivo: nome do arquivo texto a ser lido.\n",
        "def leArquivo(nomeArquivo, tipo):\n",
        "    try:\n",
        "        if tipo == \"t\":\n",
        "            with open(nomeArquivo, 'r') as arquivo:\n",
        "                linhas = arquivo.readlines()\n",
        "            return [linha.strip() for linha in linhas]\n",
        "        elif tipo == \"b\":\n",
        "            with open(nomeArquivo, 'rb') as arquivo:\n",
        "                linhas = arquivo.readlines()\n",
        "            return linhas\n",
        "    except FileNotFoundError:\n",
        "        print(f\"Arquivo {nomeArquivo} não encontrado!\")\n",
        "        return []\n",
        "\n",
        "# gravaSenhaArquivo(nomeArquivo, senha, tipo): grava a senha no arquivo de\n",
        "#   de tipo (b ou t)\n",
        "#   passados como parâmetro. Trata qualquer tipo de erro que ocorra com a\n",
        "#   Exceção \"Exception\" e apresenta a mensagem, caso ela ocorra,\n",
        "#   \"Erro na gravação do aruivo! Tipo do erro: TIPOERRO\"\n",
        "# parâmetros: senha: senha a ser gravada no arquivo binário\n",
        "def gravaSenhaArquivo(senha, nomeArquivo, tipo):\n",
        "    try:\n",
        "        if tipo == \"b\":\n",
        "            with open(nomeArquivo, 'wb') as arquivo:\n",
        "                arquivo.write(senha)\n",
        "    except Exception as e:\n",
        "        print(f\"Erro na gravação do arquivo! Tipo do erro: {type(e).__name__}\")\n",
        "\n",
        "#  geradorDeSenha(palavras, minPalavras, maxPalavras): realiza a geração de senha\n",
        "#      aleatoriamente escolhidas a partir de uma lista de \"palavras\".\n",
        "#      A quantidade de palavras a ser utilizada\n",
        "#      para gerar a senha também é escolhida aleatoriamente dentro do intervalo\n",
        "#      \"minPalavras\" e \"maxPalavras\", fornecido como parâmetro.\n",
        "#      Ao final, a senha gerada deve ser retornada.\n",
        "#      Caso a lista de \"palavras\" (parâmetro) esteja vazia, uma exceção é lançada\n",
        "#      com o texto \"A lista de palavras tem que ter pelo menos uma (1) palavra!\"\n",
        "#      E, nessa situação, a função deve retornar False, indicando que não foi\n",
        "#      possível gerar a senha.\n",
        "#  parâmetros: palavras: lista de palavras a serem utilizadas para gerar a senha.\n",
        "#              minPalavras, maxPalavras: intervalo mínimo e máximo para definir\n",
        "#              de forma aleatória, a quantidade de palavras a ser utilizada\n",
        "#              para montar a senha\n",
        "def geradorDeSenha(palavras, minPalavras, maxPalavras):\n",
        "    if not palavras:\n",
        "        print(\"A lista de palavras tem que ter pelo menos uma (1) palavra!\")\n",
        "        return False\n",
        "    numPalavras = random.randint(minPalavras, maxPalavras)\n",
        "    senha = ''.join(random.choice(palavras) for _ in range(numPalavras))\n",
        "    return senha\n",
        "\n",
        "# principal(): função principal encarregada de chamar os métodos de leitura de\n",
        "#              arquivo (tipo texto) de palavras, geração de senha e sua\n",
        "#              gravação em arquivo binário. Ao final, após ler a senha gravada,\n",
        "#              realiza a sua leitura e a apresenta na tela.\n",
        "#              Além disso, realiza o tratamento de exceção caso seja fornecido\n",
        "#              um valor não inteiro de intervalo a ser utilizado para\n",
        "#              definir a quantidade de palavras a serem utilizadas para gerar\n",
        "#              a senha.\n",
        "def principal():\n",
        "    try:\n",
        "        print(\"*** Gerador de Senha ***\")\n",
        "        numMinPal = int(input(\"\\nMínimo de palavras: \"))\n",
        "        numMaxPal = int(input(\"Máximo de palavras: \"))\n",
        "        palavras = leArquivo(\"palavras.txt\", \"t\")\n",
        "        #palavras = []\n",
        "        senhaGerada = geradorDeSenha(palavras, numMinPal, numMaxPal)\n",
        "        if senhaGerada != False: # se senha não foi gerada\n",
        "            senhaBytes = bytes(senhaGerada, \"utf-8\") # converte a string para byte\n",
        "            gravaSenhaArquivo(senhaBytes, \"senha.dat\", 'b')\n",
        "            senha = leArquivo('senha.dat', 'b')\n",
        "            senha = bytes.decode(senha[0]) # converte byte para string\n",
        "            print(f\"\\nSenha gerada foi: {senha}\")\n",
        "        else:\n",
        "            print(\"Não foi possivel gerar a senha!\")\n",
        "    except ValueError:\n",
        "        print(\"Ops! Esse não é um número válido. Tente novamente...\")\n",
        "\n",
        "principal()"
      ],
      "metadata": {
        "colab": {
          "base_uri": "https://localhost:8080/",
          "height": 339
        },
        "id": "DMHfCQRCCwq9",
        "outputId": "58a24aa1-5359-458f-ec45-bed30a00c205"
      },
      "execution_count": 2,
      "outputs": [
        {
          "output_type": "stream",
          "name": "stdout",
          "text": [
            "*** Gerador de Senha ***\n"
          ]
        },
        {
          "output_type": "error",
          "ename": "KeyboardInterrupt",
          "evalue": "Interrupted by user",
          "traceback": [
            "\u001b[0;31m---------------------------------------------------------------------------\u001b[0m",
            "\u001b[0;31mKeyboardInterrupt\u001b[0m                         Traceback (most recent call last)",
            "\u001b[0;32m<ipython-input-2-768876e780e3>\u001b[0m in \u001b[0;36m<cell line: 99>\u001b[0;34m()\u001b[0m\n\u001b[1;32m     97\u001b[0m         \u001b[0mprint\u001b[0m\u001b[0;34m(\u001b[0m\u001b[0;34m\"Ops! Esse não é um número válido. Tente novamente...\"\u001b[0m\u001b[0;34m)\u001b[0m\u001b[0;34m\u001b[0m\u001b[0;34m\u001b[0m\u001b[0m\n\u001b[1;32m     98\u001b[0m \u001b[0;34m\u001b[0m\u001b[0m\n\u001b[0;32m---> 99\u001b[0;31m \u001b[0mprincipal\u001b[0m\u001b[0;34m(\u001b[0m\u001b[0;34m)\u001b[0m\u001b[0;34m\u001b[0m\u001b[0;34m\u001b[0m\u001b[0m\n\u001b[0m",
            "\u001b[0;32m<ipython-input-2-768876e780e3>\u001b[0m in \u001b[0;36mprincipal\u001b[0;34m()\u001b[0m\n\u001b[1;32m     81\u001b[0m     \u001b[0;32mtry\u001b[0m\u001b[0;34m:\u001b[0m\u001b[0;34m\u001b[0m\u001b[0;34m\u001b[0m\u001b[0m\n\u001b[1;32m     82\u001b[0m         \u001b[0mprint\u001b[0m\u001b[0;34m(\u001b[0m\u001b[0;34m\"*** Gerador de Senha ***\"\u001b[0m\u001b[0;34m)\u001b[0m\u001b[0;34m\u001b[0m\u001b[0;34m\u001b[0m\u001b[0m\n\u001b[0;32m---> 83\u001b[0;31m         \u001b[0mnumMinPal\u001b[0m \u001b[0;34m=\u001b[0m \u001b[0mint\u001b[0m\u001b[0;34m(\u001b[0m\u001b[0minput\u001b[0m\u001b[0;34m(\u001b[0m\u001b[0;34m\"\\nMínimo de palavras: \"\u001b[0m\u001b[0;34m)\u001b[0m\u001b[0;34m)\u001b[0m\u001b[0;34m\u001b[0m\u001b[0;34m\u001b[0m\u001b[0m\n\u001b[0m\u001b[1;32m     84\u001b[0m         \u001b[0mnumMaxPal\u001b[0m \u001b[0;34m=\u001b[0m \u001b[0mint\u001b[0m\u001b[0;34m(\u001b[0m\u001b[0minput\u001b[0m\u001b[0;34m(\u001b[0m\u001b[0;34m\"Máximo de palavras: \"\u001b[0m\u001b[0;34m)\u001b[0m\u001b[0;34m)\u001b[0m\u001b[0;34m\u001b[0m\u001b[0;34m\u001b[0m\u001b[0m\n\u001b[1;32m     85\u001b[0m         \u001b[0mpalavras\u001b[0m \u001b[0;34m=\u001b[0m \u001b[0mleArquivo\u001b[0m\u001b[0;34m(\u001b[0m\u001b[0;34m\"palavras.txt\"\u001b[0m\u001b[0;34m,\u001b[0m \u001b[0;34m\"t\"\u001b[0m\u001b[0;34m)\u001b[0m\u001b[0;34m\u001b[0m\u001b[0;34m\u001b[0m\u001b[0m\n",
            "\u001b[0;32m/usr/local/lib/python3.10/dist-packages/ipykernel/kernelbase.py\u001b[0m in \u001b[0;36mraw_input\u001b[0;34m(self, prompt)\u001b[0m\n\u001b[1;32m    849\u001b[0m                 \u001b[0;34m\"raw_input was called, but this frontend does not support input requests.\"\u001b[0m\u001b[0;34m\u001b[0m\u001b[0;34m\u001b[0m\u001b[0m\n\u001b[1;32m    850\u001b[0m             )\n\u001b[0;32m--> 851\u001b[0;31m         return self._input_request(str(prompt),\n\u001b[0m\u001b[1;32m    852\u001b[0m             \u001b[0mself\u001b[0m\u001b[0;34m.\u001b[0m\u001b[0m_parent_ident\u001b[0m\u001b[0;34m,\u001b[0m\u001b[0;34m\u001b[0m\u001b[0;34m\u001b[0m\u001b[0m\n\u001b[1;32m    853\u001b[0m             \u001b[0mself\u001b[0m\u001b[0;34m.\u001b[0m\u001b[0m_parent_header\u001b[0m\u001b[0;34m,\u001b[0m\u001b[0;34m\u001b[0m\u001b[0;34m\u001b[0m\u001b[0m\n",
            "\u001b[0;32m/usr/local/lib/python3.10/dist-packages/ipykernel/kernelbase.py\u001b[0m in \u001b[0;36m_input_request\u001b[0;34m(self, prompt, ident, parent, password)\u001b[0m\n\u001b[1;32m    893\u001b[0m             \u001b[0;32mexcept\u001b[0m \u001b[0mKeyboardInterrupt\u001b[0m\u001b[0;34m:\u001b[0m\u001b[0;34m\u001b[0m\u001b[0;34m\u001b[0m\u001b[0m\n\u001b[1;32m    894\u001b[0m                 \u001b[0;31m# re-raise KeyboardInterrupt, to truncate traceback\u001b[0m\u001b[0;34m\u001b[0m\u001b[0;34m\u001b[0m\u001b[0m\n\u001b[0;32m--> 895\u001b[0;31m                 \u001b[0;32mraise\u001b[0m \u001b[0mKeyboardInterrupt\u001b[0m\u001b[0;34m(\u001b[0m\u001b[0;34m\"Interrupted by user\"\u001b[0m\u001b[0;34m)\u001b[0m \u001b[0;32mfrom\u001b[0m \u001b[0;32mNone\u001b[0m\u001b[0;34m\u001b[0m\u001b[0;34m\u001b[0m\u001b[0m\n\u001b[0m\u001b[1;32m    896\u001b[0m             \u001b[0;32mexcept\u001b[0m \u001b[0mException\u001b[0m \u001b[0;32mas\u001b[0m \u001b[0me\u001b[0m\u001b[0;34m:\u001b[0m\u001b[0;34m\u001b[0m\u001b[0;34m\u001b[0m\u001b[0m\n\u001b[1;32m    897\u001b[0m                 \u001b[0mself\u001b[0m\u001b[0;34m.\u001b[0m\u001b[0mlog\u001b[0m\u001b[0;34m.\u001b[0m\u001b[0mwarning\u001b[0m\u001b[0;34m(\u001b[0m\u001b[0;34m\"Invalid Message:\"\u001b[0m\u001b[0;34m,\u001b[0m \u001b[0mexc_info\u001b[0m\u001b[0;34m=\u001b[0m\u001b[0;32mTrue\u001b[0m\u001b[0;34m)\u001b[0m\u001b[0;34m\u001b[0m\u001b[0;34m\u001b[0m\u001b[0m\n",
            "\u001b[0;31mKeyboardInterrupt\u001b[0m: Interrupted by user"
          ]
        }
      ]
    }
  ]
}