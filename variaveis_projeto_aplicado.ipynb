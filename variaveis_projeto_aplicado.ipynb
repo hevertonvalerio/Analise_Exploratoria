{
  "nbformat": 4,
  "nbformat_minor": 0,
  "metadata": {
    "colab": {
      "provenance": [],
      "authorship_tag": "ABX9TyPOFhVYcwZs+gmoMTYiKPqk",
      "include_colab_link": true
    },
    "kernelspec": {
      "name": "python3",
      "display_name": "Python 3"
    },
    "language_info": {
      "name": "python"
    }
  },
  "cells": [
    {
      "cell_type": "markdown",
      "metadata": {
        "id": "view-in-github",
        "colab_type": "text"
      },
      "source": [
        "<a href=\"https://colab.research.google.com/github/hevertonvalerio/Analise_Exploratoria/blob/main/variaveis_projeto_aplicado.ipynb\" target=\"_parent\"><img src=\"https://colab.research.google.com/assets/colab-badge.svg\" alt=\"Open In Colab\"/></a>"
      ]
    },
    {
      "cell_type": "markdown",
      "source": [
        "## Variáveis utilizadas\n",
        "\n",
        "### Código do Indivíduo\n",
        "> #### CO_PESSOA_SISVAN   \n",
        "> Código único que identifica\n",
        "o acompanhamento\n",
        "realizado pelo indivíduo\n",
        "> ***  \n",
        "\n",
        "### Código do Indivíduo\n",
        "> #### CO_MUNICIPIO_IBGE   \n",
        "> Código IBGE do município.\n",
        "Identifica o município onde\n",
        "foi realizado o acompanhamento do\n",
        "indivíduo.\n",
        "> ***\n",
        "\n",
        "### Idade em Anos\n",
        "> #### NU_IDADE_ANO   \n",
        "> Anos de vida de uma\n",
        "pessoa no momento do\n",
        "acompanhamento.\n",
        "Cálculo gerado no sistema\n",
        "de acordo com a Data de\n",
        "Nascimento\n",
        "> ***\n",
        "\n",
        "### Código da Fase da Vida\n",
        "> #### NU_FASE_VIDA   \n",
        "> Anos de vida de uma\n",
        "A fase da vida é calculada\n",
        "de acordo com a\n",
        "quantidades de dias de\n",
        "vida de um indivíduo no\n",
        "momento do\n",
        "acompanhamento.\n",
        "> ***\n",
        "\n",
        "### Sexo\n",
        "> #### SG_SEXO   \n",
        "\n",
        "|Código|Descrição|\n",
        "|---|---|\n",
        "|0|Masculino|\n",
        "|1|Feminino|\n"
      ],
      "metadata": {
        "id": "z8oirgPZLaHg"
      }
    }
  ]
}