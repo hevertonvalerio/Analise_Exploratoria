{
  "cells": [
    {
      "cell_type": "markdown",
      "metadata": {
        "id": "view-in-github",
        "colab_type": "text"
      },
      "source": [
        "<a href=\"https://colab.research.google.com/github/hevertonvalerio/Analise_Exploratoria/blob/main/analise_setorial_Hev.ipynb\" target=\"_parent\"><img src=\"https://colab.research.google.com/assets/colab-badge.svg\" alt=\"Open In Colab\"/></a>"
      ]
    },
    {
      "cell_type": "markdown",
      "metadata": {
        "id": "0MYkgThUMcOt"
      },
      "source": [
        "---\n",
        "# Relatório 01 - Análise Setorial de Ativos - Bloomberg Challenge\n",
        "---\n",
        "\n",
        "O objetivo desse relatório é identificar setores e ativos a serem analisados e investidos ao longo do Bloomberg Challenge de Outubro/2024."
      ]
    },
    {
      "cell_type": "markdown",
      "metadata": {
        "id": "Um80FBTFMcOv"
      },
      "source": [
        "## 1. Bibliotecas e Setup"
      ]
    },
    {
      "cell_type": "markdown",
      "metadata": {
        "id": "GVozPhYWMcOw"
      },
      "source": [
        "### 1.1. Bibliotecas utilizadas"
      ]
    },
    {
      "cell_type": "code",
      "execution_count": 1,
      "metadata": {
        "id": "48LbTC9OMcOw"
      },
      "outputs": [],
      "source": [
        "import pandas as pd\n",
        "import numpy as np\n",
        "\n",
        "import plotly.graph_objects as go\n",
        "import matplotlib.pyplot as plt\n",
        "\n",
        "import yfinance as yf\n",
        "import requests\n",
        "from datetime import datetime as dt\n",
        "from dateutil.relativedelta import relativedelta\n",
        "import numpy as np\n",
        "import os"
      ]
    },
    {
      "cell_type": "markdown",
      "metadata": {
        "id": "AJ_q2SfgMcOy"
      },
      "source": [
        "### 1.2. Importação de dados das ativos passíveis de investir\n",
        "\n",
        "Para esse passo, foi utilizado o arquivo \"WLS as of Sep 25 20241.xlsx\", compartilhado no grupo Mack IA Finance. Esse arquivo contém cerca de 10 mil ativos possivelmente a serem investidos.\n"
      ]
    },
    {
      "cell_type": "markdown",
      "metadata": {
        "id": "fBXVadmeMcOz"
      },
      "source": [
        "#### 1.2.1. Enriquecimento dos dados de ativos passíveis de investir\n",
        "\n",
        "Como não havia inicialmente o setor nem o nome do ticker de cada um dos ativos, foi necessária a criação de algumas funções para extração de dados do Yahoo Finance via url e posterior enriquecimento do arquivo.\n"
      ]
    },
    {
      "cell_type": "code",
      "execution_count": 4,
      "metadata": {
        "colab": {
          "base_uri": "https://localhost:8080/",
          "height": 339
        },
        "id": "q4f4GK35McOz",
        "outputId": "156f7e7e-489d-426b-e0fb-d733fdd20903"
      },
      "outputs": [
        {
          "output_type": "error",
          "ename": "FileNotFoundError",
          "evalue": "[Errno 2] No such file or directory: 'WSL as of Sep 25 20241.xlsx'",
          "traceback": [
            "\u001b[0;31m---------------------------------------------------------------------------\u001b[0m",
            "\u001b[0;31mFileNotFoundError\u001b[0m                         Traceback (most recent call last)",
            "\u001b[0;32m<ipython-input-4-136a254702b2>\u001b[0m in \u001b[0;36m<cell line: 41>\u001b[0;34m()\u001b[0m\n\u001b[1;32m     39\u001b[0m \u001b[0;34m\u001b[0m\u001b[0m\n\u001b[1;32m     40\u001b[0m \u001b[0;31m# Enriquecer o arquivo\u001b[0m\u001b[0;34m\u001b[0m\u001b[0;34m\u001b[0m\u001b[0m\n\u001b[0;32m---> 41\u001b[0;31m \u001b[0madd_tickers_to_excel\u001b[0m\u001b[0;34m(\u001b[0m\u001b[0minput_file\u001b[0m\u001b[0;34m,\u001b[0m \u001b[0moutput_file\u001b[0m\u001b[0;34m)\u001b[0m\u001b[0;34m\u001b[0m\u001b[0;34m\u001b[0m\u001b[0m\n\u001b[0m",
            "\u001b[0;32m<ipython-input-4-136a254702b2>\u001b[0m in \u001b[0;36madd_tickers_to_excel\u001b[0;34m(input_file, output_file)\u001b[0m\n\u001b[1;32m     25\u001b[0m     \u001b[0;34m\"\"\" Função para enriquecer o arquivo original \"\"\"\u001b[0m\u001b[0;34m\u001b[0m\u001b[0;34m\u001b[0m\u001b[0m\n\u001b[1;32m     26\u001b[0m \u001b[0;34m\u001b[0m\u001b[0m\n\u001b[0;32m---> 27\u001b[0;31m     \u001b[0mdf\u001b[0m \u001b[0;34m=\u001b[0m \u001b[0mpd\u001b[0m\u001b[0;34m.\u001b[0m\u001b[0mread_excel\u001b[0m\u001b[0;34m(\u001b[0m\u001b[0minput_file\u001b[0m\u001b[0;34m)\u001b[0m\u001b[0;34m\u001b[0m\u001b[0;34m\u001b[0m\u001b[0m\n\u001b[0m\u001b[1;32m     28\u001b[0m \u001b[0;34m\u001b[0m\u001b[0m\n\u001b[1;32m     29\u001b[0m     \u001b[0mdf\u001b[0m\u001b[0;34m[\u001b[0m\u001b[0;34m'MainTicker'\u001b[0m\u001b[0;34m]\u001b[0m \u001b[0;34m=\u001b[0m \u001b[0;34m[\u001b[0m\u001b[0mx\u001b[0m\u001b[0;34m.\u001b[0m\u001b[0msplit\u001b[0m\u001b[0;34m(\u001b[0m\u001b[0;34m' '\u001b[0m\u001b[0;34m)\u001b[0m\u001b[0;34m[\u001b[0m\u001b[0;36m0\u001b[0m\u001b[0;34m]\u001b[0m \u001b[0;32mfor\u001b[0m \u001b[0mx\u001b[0m \u001b[0;32min\u001b[0m \u001b[0mdf\u001b[0m\u001b[0;34m[\u001b[0m\u001b[0;34m'Ticker'\u001b[0m\u001b[0;34m]\u001b[0m\u001b[0;34m]\u001b[0m  \u001b[0;31m# Utilizei o primeiro nome da coluna Ticker\u001b[0m\u001b[0;34m\u001b[0m\u001b[0;34m\u001b[0m\u001b[0m\n",
            "\u001b[0;32m/usr/local/lib/python3.10/dist-packages/pandas/io/excel/_base.py\u001b[0m in \u001b[0;36mread_excel\u001b[0;34m(io, sheet_name, header, names, index_col, usecols, dtype, engine, converters, true_values, false_values, skiprows, nrows, na_values, keep_default_na, na_filter, verbose, parse_dates, date_parser, date_format, thousands, decimal, comment, skipfooter, storage_options, dtype_backend, engine_kwargs)\u001b[0m\n\u001b[1;32m    493\u001b[0m     \u001b[0;32mif\u001b[0m \u001b[0;32mnot\u001b[0m \u001b[0misinstance\u001b[0m\u001b[0;34m(\u001b[0m\u001b[0mio\u001b[0m\u001b[0;34m,\u001b[0m \u001b[0mExcelFile\u001b[0m\u001b[0;34m)\u001b[0m\u001b[0;34m:\u001b[0m\u001b[0;34m\u001b[0m\u001b[0;34m\u001b[0m\u001b[0m\n\u001b[1;32m    494\u001b[0m         \u001b[0mshould_close\u001b[0m \u001b[0;34m=\u001b[0m \u001b[0;32mTrue\u001b[0m\u001b[0;34m\u001b[0m\u001b[0;34m\u001b[0m\u001b[0m\n\u001b[0;32m--> 495\u001b[0;31m         io = ExcelFile(\n\u001b[0m\u001b[1;32m    496\u001b[0m             \u001b[0mio\u001b[0m\u001b[0;34m,\u001b[0m\u001b[0;34m\u001b[0m\u001b[0;34m\u001b[0m\u001b[0m\n\u001b[1;32m    497\u001b[0m             \u001b[0mstorage_options\u001b[0m\u001b[0;34m=\u001b[0m\u001b[0mstorage_options\u001b[0m\u001b[0;34m,\u001b[0m\u001b[0;34m\u001b[0m\u001b[0;34m\u001b[0m\u001b[0m\n",
            "\u001b[0;32m/usr/local/lib/python3.10/dist-packages/pandas/io/excel/_base.py\u001b[0m in \u001b[0;36m__init__\u001b[0;34m(self, path_or_buffer, engine, storage_options, engine_kwargs)\u001b[0m\n\u001b[1;32m   1548\u001b[0m                 \u001b[0mext\u001b[0m \u001b[0;34m=\u001b[0m \u001b[0;34m\"xls\"\u001b[0m\u001b[0;34m\u001b[0m\u001b[0;34m\u001b[0m\u001b[0m\n\u001b[1;32m   1549\u001b[0m             \u001b[0;32melse\u001b[0m\u001b[0;34m:\u001b[0m\u001b[0;34m\u001b[0m\u001b[0;34m\u001b[0m\u001b[0m\n\u001b[0;32m-> 1550\u001b[0;31m                 ext = inspect_excel_format(\n\u001b[0m\u001b[1;32m   1551\u001b[0m                     \u001b[0mcontent_or_path\u001b[0m\u001b[0;34m=\u001b[0m\u001b[0mpath_or_buffer\u001b[0m\u001b[0;34m,\u001b[0m \u001b[0mstorage_options\u001b[0m\u001b[0;34m=\u001b[0m\u001b[0mstorage_options\u001b[0m\u001b[0;34m\u001b[0m\u001b[0;34m\u001b[0m\u001b[0m\n\u001b[1;32m   1552\u001b[0m                 )\n",
            "\u001b[0;32m/usr/local/lib/python3.10/dist-packages/pandas/io/excel/_base.py\u001b[0m in \u001b[0;36minspect_excel_format\u001b[0;34m(content_or_path, storage_options)\u001b[0m\n\u001b[1;32m   1400\u001b[0m         \u001b[0mcontent_or_path\u001b[0m \u001b[0;34m=\u001b[0m \u001b[0mBytesIO\u001b[0m\u001b[0;34m(\u001b[0m\u001b[0mcontent_or_path\u001b[0m\u001b[0;34m)\u001b[0m\u001b[0;34m\u001b[0m\u001b[0;34m\u001b[0m\u001b[0m\n\u001b[1;32m   1401\u001b[0m \u001b[0;34m\u001b[0m\u001b[0m\n\u001b[0;32m-> 1402\u001b[0;31m     with get_handle(\n\u001b[0m\u001b[1;32m   1403\u001b[0m         \u001b[0mcontent_or_path\u001b[0m\u001b[0;34m,\u001b[0m \u001b[0;34m\"rb\"\u001b[0m\u001b[0;34m,\u001b[0m \u001b[0mstorage_options\u001b[0m\u001b[0;34m=\u001b[0m\u001b[0mstorage_options\u001b[0m\u001b[0;34m,\u001b[0m \u001b[0mis_text\u001b[0m\u001b[0;34m=\u001b[0m\u001b[0;32mFalse\u001b[0m\u001b[0;34m\u001b[0m\u001b[0;34m\u001b[0m\u001b[0m\n\u001b[1;32m   1404\u001b[0m     ) as handle:\n",
            "\u001b[0;32m/usr/local/lib/python3.10/dist-packages/pandas/io/common.py\u001b[0m in \u001b[0;36mget_handle\u001b[0;34m(path_or_buf, mode, encoding, compression, memory_map, is_text, errors, storage_options)\u001b[0m\n\u001b[1;32m    880\u001b[0m         \u001b[0;32melse\u001b[0m\u001b[0;34m:\u001b[0m\u001b[0;34m\u001b[0m\u001b[0;34m\u001b[0m\u001b[0m\n\u001b[1;32m    881\u001b[0m             \u001b[0;31m# Binary mode\u001b[0m\u001b[0;34m\u001b[0m\u001b[0;34m\u001b[0m\u001b[0m\n\u001b[0;32m--> 882\u001b[0;31m             \u001b[0mhandle\u001b[0m \u001b[0;34m=\u001b[0m \u001b[0mopen\u001b[0m\u001b[0;34m(\u001b[0m\u001b[0mhandle\u001b[0m\u001b[0;34m,\u001b[0m \u001b[0mioargs\u001b[0m\u001b[0;34m.\u001b[0m\u001b[0mmode\u001b[0m\u001b[0;34m)\u001b[0m\u001b[0;34m\u001b[0m\u001b[0;34m\u001b[0m\u001b[0m\n\u001b[0m\u001b[1;32m    883\u001b[0m         \u001b[0mhandles\u001b[0m\u001b[0;34m.\u001b[0m\u001b[0mappend\u001b[0m\u001b[0;34m(\u001b[0m\u001b[0mhandle\u001b[0m\u001b[0;34m)\u001b[0m\u001b[0;34m\u001b[0m\u001b[0;34m\u001b[0m\u001b[0m\n\u001b[1;32m    884\u001b[0m \u001b[0;34m\u001b[0m\u001b[0m\n",
            "\u001b[0;31mFileNotFoundError\u001b[0m: [Errno 2] No such file or directory: 'WSL as of Sep 25 20241.xlsx'"
          ]
        }
      ],
      "source": [
        "def search_ticker(company_name):\n",
        "    \"\"\" Função para extrair o symbol e outras informações para cada ticker \"\"\"\n",
        "    url = \"https://query1.finance.yahoo.com/v1/finance/search\"\n",
        "\n",
        "    headers = {\n",
        "        \"User-Agent\": \"Mozilla/5.0 (X11; Ubuntu; Linux x86_64; rv:122.0) Gecko/20100101 Firefox/122.0\"\n",
        "    }\n",
        "\n",
        "    params = {\n",
        "        \"q\": f\"{company_name}\",\n",
        "        \"lang\": \"en-US\",\n",
        "        \"region\": \"US\",\n",
        "    }\n",
        "\n",
        "    try:\n",
        "        data = requests.get(url, params=params, headers=headers).json()\n",
        "        df = pd.DataFrame(data[\"quotes\"])\n",
        "        first_quote = df.iloc[0]\n",
        "        return first_quote.get('symbol', 'N/A'), first_quote.get('sector', 'N/A'), first_quote.get('industry', 'N/A'), first_quote.get('shortname', 'N/A')\n",
        "    except:\n",
        "        print(f\"Não foi encontrado info para {company_name}\")\n",
        "        return 'N/A', 'N/A', 'N/A', 'N/A'\n",
        "\n",
        "def add_tickers_to_excel(input_file, output_file):\n",
        "    \"\"\" Função para enriquecer o arquivo original \"\"\"\n",
        "\n",
        "    df = pd.read_excel(input_file)\n",
        "\n",
        "    df['MainTicker'] = [x.split(' ')[0] for x in df['Ticker']]  # Utilizei o primeiro nome da coluna Ticker\n",
        "    df[['YFTicker', 'SetorEconomico', 'Industria', 'NomeCompletoParaAuditoria']] = df['MainTicker'].apply(lambda x: pd.Series(search_ticker(x)))\n",
        "\n",
        "    # Retorna o Excel enriquecido\n",
        "    df.to_excel(output_file, index=False)\n",
        "    print(f\"Updated file saved as {output_file}\")\n",
        "\n",
        "# Determinar o input e o nome do arquivo enriquecido\n",
        "input_file = 'WSL as of Sep 25 20241.xlsx'\n",
        "output_file = 'WSL as of Sep 25 20241 - Modificado.xlsx'\n",
        "\n",
        "# Enriquecer o arquivo\n",
        "add_tickers_to_excel(input_file, output_file)\n"
      ]
    },
    {
      "cell_type": "markdown",
      "metadata": {
        "id": "nHmE_srBMcO0"
      },
      "source": [
        "Tratando os dados para excluir os ativos não encontrados no Yahoo Finance"
      ]
    },
    {
      "cell_type": "code",
      "execution_count": null,
      "metadata": {
        "id": "nqmG47KUMcO0"
      },
      "outputs": [],
      "source": [
        "ativos = pd.read_excel(r'WSL as of Sep 25 20241 - Modificado.xlsx')\n",
        "ativos = ativos[~ativos['YFTicker'].isna()]\n",
        "ativos.head()"
      ]
    },
    {
      "cell_type": "markdown",
      "metadata": {
        "id": "yAKFi7mJMcO0"
      },
      "source": [
        "Além do Setor Econômico, seria interessante também identificar a bolsa/país principal em que o ativo é negociado, além da moeda utilizada."
      ]
    },
    {
      "cell_type": "code",
      "execution_count": null,
      "metadata": {
        "id": "6H610lfkMcO1"
      },
      "outputs": [],
      "source": [
        "h = 0\n",
        "\n",
        "def add_more_infos(company_name):\n",
        "    \"\"\" Função para adicionar o país em que o ativo é operado e a moeda utilizada\"\"\"\n",
        "    global h\n",
        "\n",
        "    h += 1\n",
        "    try:\n",
        "        ticker = yf.Ticker(company_name)\n",
        "    except:\n",
        "        print(company_name)\n",
        "        raise\n",
        "    country = ticker.info.get('country', 'N/A')\n",
        "    currency = ticker.info.get('currency', 'N/A')\n",
        "    if h % 100 == 0:\n",
        "        print(h)\n",
        "    return country, currency\n",
        "\n",
        "def add_infos_to_excel(ativos, output_file):\n",
        "    \"\"\" Função para enriquecer o arquivo original \"\"\"\n",
        "    ativos[['Pais', 'Moeda']] = ativos['YFTicker'].apply(lambda x: pd.Series(add_more_infos(x)))\n",
        "\n",
        "    # Retorna o Excel enriquecido\n",
        "    ativos.to_excel(output_file, index=False)\n",
        "    print(f\"Updated file saved as {output_file}\")\n",
        "\n",
        "output_file = 'WSL as of Sep 25 20241 - Modificado_2.xlsx'\n",
        "\n",
        "add_infos_to_excel(ativos, output_file)"
      ]
    },
    {
      "cell_type": "markdown",
      "metadata": {
        "id": "RiKkEym3McO1"
      },
      "source": [
        "#### 1.2.2. Importação de dados OHLCV\n",
        "\n",
        "Após realizar um enriquecimento dos ativos, será realizada uma extração dos dados OHLCV <i>Open, High, Low, Close, Volume</i>, especificamente os dados de <i>Close</i> e <i>Volume</i>.\n",
        "\n",
        "Para permitir uma análise setorial, ao invés de usar os dados especificamente de cada ativo, será realizado um tratamento em fluxo, por meio do qual se buscará extrair:\n",
        "- Variação diária\n",
        "- Volume\n",
        "\n",
        "Diante da variação diária, se buscará reduzir as informações para apenas um vetor de variação diária por indústria / moeda / país."
      ]
    },
    {
      "cell_type": "code",
      "execution_count": null,
      "metadata": {
        "id": "8gY1SliXMcO1"
      },
      "outputs": [],
      "source": [
        "ativos = pd.read_excel(r'WSL as of Sep 25 20241 - Modificado_2.xlsx')\n",
        "ativos = ativos[~ativos['Pais'].isna()] # Filtrando por ativos que possuam informações de Pais\n",
        "ativos = ativos[~ativos['Moeda'].isna()] # Filtrando por ativos que possuam informações de moeda\n",
        "ativos.head()"
      ]
    },
    {
      "cell_type": "markdown",
      "metadata": {
        "id": "yoNezKDrMcO2"
      },
      "source": [
        "Para identificar esse vetor único, adotei a seguinte estatística/passo-a-passo:\n",
        "\n",
        "1. Obter volume financeiro movimentado no dia pelo ativo (${Volume_{FinanceiroDiarioAtivo}}$)\n",
        "2. Obter variação do valor de fechamento diário (${VariacaooFechamento_{Ativo}}$)\n",
        "3. Multiplicar os dois primeiros valores (1 e 2)\n",
        "4. Obter o volume financeiro total por dia no setor do ativo (${Volume_{FinanceiroDiarioTotal}}$)\n",
        "5. Obter a soma das variações sopesadas pelo volume financeiro (item 3)\n",
        "6. Dividir o item 5 pelo item 4\n",
        "\n",
        "Com isso, espera-se encontrar uma estatística de variação diária do preço de fechamento do setor (sopesada pelo volume financeiro).\n",
        "\n",
        "$$ {VariacaoDiaria_{Ponderada}} = \\frac{\\sum_{k=1}^n {Volume_{FinanceiroDiarioAtivo}} * {VariacaoFechamento_{Ativo}}}{{Volume_{FinanceiroDiarioTotal}}}  $$"
      ]
    },
    {
      "cell_type": "code",
      "execution_count": null,
      "metadata": {
        "id": "nisC7PdeMcO2"
      },
      "outputs": [],
      "source": [
        "def obtain_sector_performance(lista_symbols):\n",
        "    \"\"\" Função para realizar extract, transform dos dados em fluxo, transformando-os em vetores de rendimento por setor \"\"\"\n",
        "    data_inicial = dt(2002, 1, 1)\n",
        "    data_final = dt(2024, 10, 1)\n",
        "\n",
        "    dados_setoriais = pd.DataFrame()\n",
        "\n",
        "    # Obtendo o vetor representativo do segmento por ano\n",
        "    while data_inicial <= data_final:\n",
        "        data_chunk = min(data_inicial + relativedelta(years=1), data_final)\n",
        "        volume_total = pd.Series()\n",
        "        dados_anuais = pd.DataFrame()\n",
        "\n",
        "        for symbol in lista_symbols:\n",
        "            data = yf.download(symbol, start=data_inicial.strftime('%Y-%m-%d'), end=data_chunk.strftime('%Y-%m-%d'), progress=False)[['Close', 'Volume']]\n",
        "\n",
        "            if not data.empty:\n",
        "\n",
        "                # Evitar SettingWithCopyWarning\n",
        "                data = data.copy()\n",
        "\n",
        "                # Calcular volume financeiro\n",
        "                data['DollarVolume'] = data['Volume'] * data['Close']\n",
        "\n",
        "                # Calcular retorno com ponderação por volume financeiro\n",
        "                data[symbol] = data['Close'].pct_change() * data['DollarVolume']\n",
        "\n",
        "                # Acumular volume financeiro\n",
        "                volume_total = volume_total.add(data['DollarVolume'], fill_value=0)\n",
        "\n",
        "                # Adicionar o valor do retorno ponderado ao pandas\n",
        "                dados_anuais = pd.concat([dados_anuais, data[[symbol]]], axis=1)\n",
        "\n",
        "        volume_total.replace(0, np.nan, inplace=True)\n",
        "\n",
        "        # Obtendo indicador comparativo de cada setor por ano\n",
        "        dados_anuais['RetornoSetor'] = dados_anuais.sum(axis=1) / volume_total # Usei a média mensal de volume financeiro movimentado por todo o setor\n",
        "\n",
        "        # Juntando num só dataframe\n",
        "        dados_setoriais = pd.concat([dados_setoriais, dados_anuais[['RetornoSetor']]])\n",
        "\n",
        "        # Passando para o próximo ano\n",
        "        data_inicial += relativedelta(years=1)\n",
        "\n",
        "    return dados_setoriais"
      ]
    },
    {
      "cell_type": "code",
      "execution_count": null,
      "metadata": {
        "id": "8dScpvUdMcO2"
      },
      "outputs": [],
      "source": [
        "def pipeline(ativos):\n",
        "    \"\"\" Função para executar o pipeline do ETL \"\"\"\n",
        "    print(\"Iniciando pipeline\")\n",
        "    for moeda in ativos['Moeda'].unique():\n",
        "        for pais in ativos[ativos['Moeda']==moeda]['Pais'].unique():\n",
        "            for industria in ativos[(ativos['Moeda']==moeda)&(ativos['Pais']==pais)]['Industria'].unique():\n",
        "                if f'{moeda}_{pais}_{industria}_setoriado.csv' not in os.listdir('data'):\n",
        "                    ativos_chunk = ativos[(ativos['Moeda']==moeda)&(ativos['Pais']==pais)&(ativos['Industria']==industria)]\n",
        "\n",
        "                    if not ativos_chunk.empty:\n",
        "                        lista_ativos = list(ativos_chunk['YFTicker'])\n",
        "                        temp = obtain_sector_performance(lista_ativos)\n",
        "                        temp.to_csv(f'data\\{moeda}_{pais}_{industria}_setoriado.csv')\n",
        "                        print(f\"Concluído {moeda}_{pais}_{industria}\")\n",
        "    print(\"Pipeline concluído!\")\n",
        "    return None"
      ]
    },
    {
      "cell_type": "markdown",
      "metadata": {
        "id": "zYlCcCmyMcO2"
      },
      "source": [
        "Executando o pipeline:"
      ]
    },
    {
      "cell_type": "code",
      "execution_count": null,
      "metadata": {
        "id": "EzIoQZiqMcO3"
      },
      "outputs": [],
      "source": [
        "pipeline(ativos)"
      ]
    },
    {
      "cell_type": "markdown",
      "metadata": {
        "id": "o3k-2aVfMcO3"
      },
      "source": [
        "## 2. Análise Exploratória de Dados\n",
        "\n",
        "Considerando os dados extraídos e transformados nas seções anteriores, inicia-se a análise exploratória."
      ]
    },
    {
      "cell_type": "markdown",
      "metadata": {
        "id": "KFs6TehjMcO4"
      },
      "source": [
        "### 2.1. Ativos que compõem os setores"
      ]
    },
    {
      "cell_type": "code",
      "execution_count": null,
      "metadata": {
        "id": "iHRKqWqXMcO4"
      },
      "outputs": [],
      "source": [
        "ativos.info()"
      ]
    },
    {
      "cell_type": "markdown",
      "metadata": {
        "id": "QmkHw7TmMcO4"
      },
      "source": [
        "Percebe-se acima que há ativos para os quais as funções de enriquecimento não encontraram a correlata Industria. Esses ativos serão desconsiderados.\n",
        "Além disso, deve-se tornara a coluna \"Ponderação\" de tipo \"float\"."
      ]
    },
    {
      "cell_type": "markdown",
      "metadata": {
        "id": "iQ3hUirKMcO4"
      },
      "source": [
        "Por meio de iterações, percebeu-se a existência de uma inconsistência na coluna Ponderação, conforme abaixo. Optou-se por tratá-la, modificando-a para 0"
      ]
    },
    {
      "cell_type": "code",
      "execution_count": null,
      "metadata": {
        "id": "kXityX0gMcO5"
      },
      "outputs": [],
      "source": [
        "display(ativos[ativos['Ponderação']=='--'])\n",
        "ativos.loc[ativos['Ponderação']=='--', 'Ponderação'] = 0\n",
        "\n",
        "ativos['Ponderação'] = ativos['Ponderação'].astype(float)"
      ]
    },
    {
      "cell_type": "code",
      "execution_count": null,
      "metadata": {
        "id": "EUI9RuTHMcO5"
      },
      "outputs": [],
      "source": [
        "ativos.dropna(inplace=True)"
      ]
    },
    {
      "cell_type": "markdown",
      "metadata": {
        "id": "hMeaJuMkMcO5"
      },
      "source": [
        "### 2.2. Análise de participação de mercado financeiro"
      ]
    },
    {
      "cell_type": "code",
      "execution_count": null,
      "metadata": {
        "id": "H8oIIyu5McO5"
      },
      "outputs": [],
      "source": [
        "fig = go.Figure()\n",
        "\n",
        "\n",
        "contagem_paises = ativos.Pais.value_counts()[:10].sort_values(ascending=True)\n",
        "fig.add_trace(go.Bar(y = contagem_paises.index, x = contagem_paises.values, orientation='h'))\n",
        "\n",
        "fig.update_xaxes(title_text='<b> Quantidade de ativos')\n",
        "\n",
        "fig.update_layout(title_text='Distribuição de ativos por países - Top 10', width=800, height=600)\n",
        "fig.show()"
      ]
    },
    {
      "cell_type": "markdown",
      "metadata": {
        "id": "vs21BWL0McO5"
      },
      "source": [
        "Há uma predominância de ativos listados nas bolsas dos Estados Unidos."
      ]
    },
    {
      "cell_type": "code",
      "execution_count": null,
      "metadata": {
        "id": "puGgK9YbMcO6"
      },
      "outputs": [],
      "source": [
        "fig = go.Figure()\n",
        "\n",
        "\n",
        "contagem_paises = ativos.SetorEconomico.value_counts()[:30].sort_values(ascending=True)\n",
        "fig.add_trace(go.Bar(y = contagem_paises.index, x = contagem_paises.values, orientation='h'))\n",
        "\n",
        "fig.update_xaxes(title_text='<b> Quantidade de ativos')\n",
        "\n",
        "fig.update_layout(title_text='Distribuição de ativos por Setores Econômicos', width=800, height=600)\n",
        "fig.show()"
      ]
    },
    {
      "cell_type": "code",
      "execution_count": null,
      "metadata": {
        "id": "e4C2jlavMcO6"
      },
      "outputs": [],
      "source": [
        "fig = go.Figure()\n",
        "\n",
        "\n",
        "contagem_paises = ativos.Industria.value_counts()[:30].sort_values(ascending=True)\n",
        "fig.add_trace(go.Bar(y = contagem_paises.index, x = contagem_paises.values, orientation='h'))\n",
        "\n",
        "fig.update_xaxes(title_text='<b> Quantidade de ativos')\n",
        "\n",
        "fig.update_layout(title_text='Distribuição de ativos por Indústria', width=800, height=600)\n",
        "fig.show()"
      ]
    },
    {
      "cell_type": "markdown",
      "metadata": {
        "id": "w4QV78QwMcO6"
      },
      "source": [
        "Essa análise, contudo, não leva em consideração o volume financeiro transacionado, o que é importante para o estudo. Deve-se modificar o código para obter a participação de cada indústira/setor/país."
      ]
    },
    {
      "cell_type": "code",
      "execution_count": null,
      "metadata": {
        "id": "9IjBB7PlMcO7"
      },
      "outputs": [],
      "source": [
        "part_industria = ativos.groupby(['Industria'])['Ponderação'].sum()"
      ]
    },
    {
      "cell_type": "code",
      "execution_count": null,
      "metadata": {
        "id": "-63PgKz7McO7"
      },
      "outputs": [],
      "source": [
        "fig = go.Figure()\n",
        "\n",
        "part_industria.sort_values(ascending=True, inplace=True)\n",
        "fig.add_trace(go.Bar(y = part_industria.index[-10:], x = part_industria.values[-10:], orientation='h'))\n",
        "\n",
        "fig.update_xaxes(title_text='<b> Participação no Mercado Global')\n",
        "\n",
        "fig.update_layout(title_text='Distribuição de ativos por Indústria - Top 10', width=800, height=600)\n",
        "fig.show()"
      ]
    },
    {
      "cell_type": "code",
      "execution_count": null,
      "metadata": {
        "id": "Lvg570y4McO7"
      },
      "outputs": [],
      "source": [
        "fig = go.Figure()\n",
        "\n",
        "part_setor = ativos.groupby(['SetorEconomico'])['Ponderação'].sum()\n",
        "part_setor.sort_values(ascending=True, inplace=True)\n",
        "fig.add_trace(go.Bar(y = part_setor.index, x = part_setor.values, orientation='h'))\n",
        "\n",
        "fig.update_xaxes(title_text='<b> Participação no Mercado Global')\n",
        "\n",
        "fig.update_layout(title_text='Distribuição de ativos por Setor Econômico', width=800, height=600)\n",
        "fig.show()"
      ]
    },
    {
      "cell_type": "markdown",
      "metadata": {
        "id": "NPCsM4-KMcO7"
      },
      "source": [
        "O resultado não pode ser interpretado como percentual ou valor absoluto: o campo <i>Ponderação</i>, proporcionado pelo arquivo Excel inicialmente compartilhado com o grupo MackIA, não aparenta se referir ao percentual de participação global, sendo possível que represente o percentual de suas bolsas de valores.\n",
        "\n",
        "Ainda assim, a prevalência de determinados setores e indústrias nos permite concluir sobre a importância desses setores, em geral, por terem maiores participações \"em cada bolsa de valores\"."
      ]
    },
    {
      "cell_type": "markdown",
      "metadata": {
        "id": "gG6QKzBWMcO8"
      },
      "source": [
        "### 2.3. Análise de Relacionamento entre setores\n",
        "\n",
        "A fim de descobrir possível dependência entre setores (e reduzir o risco pela seleção de setores menos correlacionados), prossegue-se a verificação dos vetores de cada país/moeda/indústria."
      ]
    },
    {
      "cell_type": "code",
      "execution_count": null,
      "metadata": {
        "id": "s9zsx3i9McO8"
      },
      "outputs": [],
      "source": [
        "lista_csv = os.listdir('data')\n",
        "arquivos_csv_organizados = {'Moeda':[], 'Pais':[], 'Industria': [], 'Endereco': []}\n",
        "\n",
        "for arquivo in lista_csv:\n",
        "    dados = arquivo.split('_')\n",
        "    arquivos_csv_organizados['Moeda'].append(dados[0])\n",
        "    arquivos_csv_organizados['Pais'].append(dados[1])\n",
        "    arquivos_csv_organizados['Industria'].append(dados[2])\n",
        "    arquivos_csv_organizados['Endereco'].append(arquivo)\n",
        "\n",
        "arquivos_organizados = pd.DataFrame(arquivos_csv_organizados)"
      ]
    },
    {
      "cell_type": "code",
      "execution_count": null,
      "metadata": {
        "id": "vmOl2iQ-McO8"
      },
      "outputs": [],
      "source": [
        "arquivos_organizados"
      ]
    },
    {
      "cell_type": "markdown",
      "metadata": {
        "id": "rETArS8FMcO9"
      },
      "source": [
        "#### 2.3.1. Análise de setores - EUA"
      ]
    },
    {
      "cell_type": "code",
      "execution_count": null,
      "metadata": {
        "id": "NNrdlE1zMcPL"
      },
      "outputs": [],
      "source": [
        "dados = pd.DataFrame()\n",
        "\n",
        "arquivos_a_importar = arquivos_organizados[arquivos_organizados['Pais']=='United States']['Endereco']\n",
        "\n",
        "for arquivo in arquivos_a_importar:\n",
        "    temp = pd.read_csv(rf'data\\{arquivo}', parse_dates=[0], index_col=[0])\n",
        "    # temp.set_index(temp['Date'], inplace=True)\n",
        "    temp = temp[['RetornoSetor']]\n",
        "    temp.columns = [arquivo.split('_')[2]]\n",
        "    temp.columns = [arquivo.split('_')[2]]\n",
        "    dados = pd.concat([dados, temp], axis=1)\n",
        "    # break\n",
        "\n",
        "dados.head()"
      ]
    },
    {
      "cell_type": "code",
      "execution_count": null,
      "metadata": {
        "id": "w5c5ytWrMcPL"
      },
      "outputs": [],
      "source": [
        "dados.isna()"
      ]
    }
  ],
  "metadata": {
    "kernelspec": {
      "display_name": "Python 3",
      "language": "python",
      "name": "python3"
    },
    "language_info": {
      "codemirror_mode": {
        "name": "ipython",
        "version": 3
      },
      "file_extension": ".py",
      "mimetype": "text/x-python",
      "name": "python",
      "nbconvert_exporter": "python",
      "pygments_lexer": "ipython3",
      "version": "3.10.5"
    },
    "colab": {
      "provenance": [],
      "include_colab_link": true
    }
  },
  "nbformat": 4,
  "nbformat_minor": 0
}